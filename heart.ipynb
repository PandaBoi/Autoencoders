{
 "cells": [
  {
   "cell_type": "code",
   "execution_count": 1,
   "metadata": {},
   "outputs": [],
   "source": [
    "import pandas as pd\n",
    "import numpy as np\n",
    "import torch\n",
    "import matplotlib.pyplot as plt \n",
    "from torch.utils.data import Dataset\n",
    "import torch.nn as nn\n",
    "import torch.nn.functional as F\n",
    "import torch.optim as optim\n",
    "import torchvision\n",
    "from torchvision import datasets, transforms\n",
    "from torch.utils.data import DataLoader, TensorDataset\n",
    "%matplotlib inline\n",
    "device = torch.device('cuda:0' if torch.cuda.is_available() else 'cpu')"
   ]
  },
  {
   "cell_type": "code",
   "execution_count": 10,
   "metadata": {},
   "outputs": [],
   "source": [
    "batch_size = 10\n",
    "num_epochs = 40"
   ]
  },
  {
   "cell_type": "code",
   "execution_count": 3,
   "metadata": {},
   "outputs": [],
   "source": [
    "class SignalsDataset(Dataset):\n",
    "    \n",
    "    def __init__(self, csv_file, root_dir, transform=None):\n",
    "        self.signals_frame = pd.read_csv(csv_file)\n",
    "        self.signals_frame = self.signals_frame.iloc[:,:-1] # removing last column - not needed\n",
    "        \n",
    "    def __len__(self):\n",
    "        return len(self.signals_frame)\n",
    "    \n",
    "    def __getitem__(self, idx):\n",
    "        \n",
    "        d = self.signals_frame.iloc[idx,:].values\n",
    "        d = torch.from_numpy(d).float()\n",
    "        d = d.view(1, 187) # gives one ecg signal\n",
    "        sample = {'data': d.float(), 'target':d.float()}\n",
    "        \n",
    "        return sample "
   ]
  },
  {
   "cell_type": "code",
   "execution_count": 5,
   "metadata": {},
   "outputs": [],
   "source": [
    "# train_dataset = SignalsDataset(csv_file=\"training.csv\", \n",
    "#                                   root_dir=\"Heart\")\n",
    "train_dataset = SignalsDataset(csv_file=\"mitbih_train.csv\",root_dir=\"~/\")\n",
    "train_loader = DataLoader(train_dataset, batch_size=batch_size, shuffle=True, num_workers=0)\n"
   ]
  },
  {
   "cell_type": "code",
   "execution_count": 6,
   "metadata": {},
   "outputs": [
    {
     "data": {
      "text/plain": [
       "{'data': tensor([[0.9601, 0.8632, 0.4615, 0.1966, 0.0940, 0.1254, 0.0997, 0.0883, 0.0741,\n",
       "          0.0826, 0.0741, 0.0627, 0.0655, 0.0655, 0.0627, 0.0769, 0.0712, 0.0826,\n",
       "          0.0912, 0.0969, 0.0826, 0.0826, 0.0912, 0.1054, 0.1225, 0.1481, 0.1823,\n",
       "          0.1937, 0.2137, 0.2080, 0.2222, 0.2536, 0.2707, 0.2877, 0.2849, 0.2934,\n",
       "          0.2564, 0.2479, 0.1880, 0.1453, 0.1083, 0.0826, 0.0798, 0.0741, 0.0142,\n",
       "          0.0114, 0.0627, 0.0513, 0.0570, 0.0484, 0.0285, 0.0313, 0.0769, 0.0256,\n",
       "          0.0285, 0.0370, 0.0940, 0.0855, 0.0399, 0.0598, 0.0741, 0.0798, 0.0912,\n",
       "          0.0997, 0.1083, 0.0883, 0.0912, 0.0655, 0.0855, 0.0883, 0.0769, 0.0826,\n",
       "          0.0969, 0.0997, 0.1339, 0.1026, 0.0399, 0.0655, 0.0741, 0.0826, 0.0855,\n",
       "          0.0570, 0.0456, 0.1026, 0.0399, 0.0114, 0.0171, 0.0313, 0.0057, 0.0085,\n",
       "          0.0313, 0.0513, 0.0570, 0.0883, 0.0655, 0.0114, 0.0570, 0.0399, 0.0399,\n",
       "          0.0256, 0.0028, 0.0199, 0.0256, 0.0114, 0.0285, 0.0199, 0.0228, 0.0342,\n",
       "          0.0142, 0.0513, 0.0684, 0.1396, 0.2877, 0.5271, 0.7778, 1.0000, 0.8889,\n",
       "          0.4929, 0.1909, 0.0883, 0.0627, 0.0342, 0.0000, 0.0342, 0.0171, 0.0028,\n",
       "          0.0000, 0.0484, 0.0484, 0.0541, 0.0427, 0.0541, 0.0598, 0.0627, 0.0712,\n",
       "          0.0769, 0.0997, 0.0000, 0.0000, 0.0000, 0.0000, 0.0000, 0.0000, 0.0000,\n",
       "          0.0000, 0.0000, 0.0000, 0.0000, 0.0000, 0.0000, 0.0000, 0.0000, 0.0000,\n",
       "          0.0000, 0.0000, 0.0000, 0.0000, 0.0000, 0.0000, 0.0000, 0.0000, 0.0000,\n",
       "          0.0000, 0.0000, 0.0000, 0.0000, 0.0000, 0.0000, 0.0000, 0.0000, 0.0000,\n",
       "          0.0000, 0.0000, 0.0000, 0.0000, 0.0000, 0.0000, 0.0000, 0.0000, 0.0000,\n",
       "          0.0000, 0.0000, 0.0000, 0.0000, 0.0000, 0.0000, 0.0000]]),\n",
       " 'target': tensor([[0.9601, 0.8632, 0.4615, 0.1966, 0.0940, 0.1254, 0.0997, 0.0883, 0.0741,\n",
       "          0.0826, 0.0741, 0.0627, 0.0655, 0.0655, 0.0627, 0.0769, 0.0712, 0.0826,\n",
       "          0.0912, 0.0969, 0.0826, 0.0826, 0.0912, 0.1054, 0.1225, 0.1481, 0.1823,\n",
       "          0.1937, 0.2137, 0.2080, 0.2222, 0.2536, 0.2707, 0.2877, 0.2849, 0.2934,\n",
       "          0.2564, 0.2479, 0.1880, 0.1453, 0.1083, 0.0826, 0.0798, 0.0741, 0.0142,\n",
       "          0.0114, 0.0627, 0.0513, 0.0570, 0.0484, 0.0285, 0.0313, 0.0769, 0.0256,\n",
       "          0.0285, 0.0370, 0.0940, 0.0855, 0.0399, 0.0598, 0.0741, 0.0798, 0.0912,\n",
       "          0.0997, 0.1083, 0.0883, 0.0912, 0.0655, 0.0855, 0.0883, 0.0769, 0.0826,\n",
       "          0.0969, 0.0997, 0.1339, 0.1026, 0.0399, 0.0655, 0.0741, 0.0826, 0.0855,\n",
       "          0.0570, 0.0456, 0.1026, 0.0399, 0.0114, 0.0171, 0.0313, 0.0057, 0.0085,\n",
       "          0.0313, 0.0513, 0.0570, 0.0883, 0.0655, 0.0114, 0.0570, 0.0399, 0.0399,\n",
       "          0.0256, 0.0028, 0.0199, 0.0256, 0.0114, 0.0285, 0.0199, 0.0228, 0.0342,\n",
       "          0.0142, 0.0513, 0.0684, 0.1396, 0.2877, 0.5271, 0.7778, 1.0000, 0.8889,\n",
       "          0.4929, 0.1909, 0.0883, 0.0627, 0.0342, 0.0000, 0.0342, 0.0171, 0.0028,\n",
       "          0.0000, 0.0484, 0.0484, 0.0541, 0.0427, 0.0541, 0.0598, 0.0627, 0.0712,\n",
       "          0.0769, 0.0997, 0.0000, 0.0000, 0.0000, 0.0000, 0.0000, 0.0000, 0.0000,\n",
       "          0.0000, 0.0000, 0.0000, 0.0000, 0.0000, 0.0000, 0.0000, 0.0000, 0.0000,\n",
       "          0.0000, 0.0000, 0.0000, 0.0000, 0.0000, 0.0000, 0.0000, 0.0000, 0.0000,\n",
       "          0.0000, 0.0000, 0.0000, 0.0000, 0.0000, 0.0000, 0.0000, 0.0000, 0.0000,\n",
       "          0.0000, 0.0000, 0.0000, 0.0000, 0.0000, 0.0000, 0.0000, 0.0000, 0.0000,\n",
       "          0.0000, 0.0000, 0.0000, 0.0000, 0.0000, 0.0000, 0.0000]])}"
      ]
     },
     "execution_count": 6,
     "metadata": {},
     "output_type": "execute_result"
    }
   ],
   "source": [
    "train_dataset.__getitem__(0)"
   ]
  },
  {
   "cell_type": "code",
   "execution_count": 7,
   "metadata": {},
   "outputs": [],
   "source": [
    "class Autoencoder(nn.Module):\n",
    "    def __init__(self):\n",
    "        super(Autoencoder, self).__init__()\n",
    "        \n",
    "        self.enc_layer1 = nn.Conv1d(1, 4, kernel_size=4, stride=1)\n",
    "        self.enc_layer2 = nn.Conv1d(4, 16, kernel_size=4, stride=1)\n",
    "        self.enc_layer3 = nn.Conv1d(16, 32, kernel_size=4, stride=1)\n",
    "        \n",
    "        self.dec_layer4 = nn.ConvTranspose1d(in_channels=32,out_channels=16,kernel_size=4)\n",
    "        self.dec_layer5 = nn.ConvTranspose1d(in_channels=16,out_channels=4,kernel_size=4)\n",
    "        self.dec_layer6 = nn.ConvTranspose1d(in_channels=4,out_channels=1,kernel_size=4)\n",
    "        \n",
    "\n",
    "        \n",
    "    def forward(self, x):\n",
    "        #x = x.float()\n",
    "        x = self.enc_layer1(x)\n",
    "        x = self.enc_layer2(x)\n",
    "        x = self.enc_layer3(x)\n",
    "        \n",
    "        x = self.dec_layer4(x)\n",
    "        x = self.dec_layer5(x)\n",
    "        x = self.dec_layer6(x)\n",
    "        \n",
    "        return x    "
   ]
  },
  {
   "cell_type": "code",
   "execution_count": 11,
   "metadata": {},
   "outputs": [
    {
     "name": "stdout",
     "output_type": "stream",
     "text": [
      "epoch [1/40], loss:0.00001761\n",
      "epoch [2/40], loss:0.00000109\n",
      "epoch [3/40], loss:0.00001466\n",
      "epoch [4/40], loss:0.00000950\n",
      "epoch [5/40], loss:0.00000531\n",
      "epoch [6/40], loss:0.00000150\n",
      "epoch [7/40], loss:0.00000217\n",
      "epoch [8/40], loss:0.00000226\n",
      "epoch [9/40], loss:0.00000066\n",
      "epoch [10/40], loss:0.00000742\n",
      "epoch [11/40], loss:0.00000627\n",
      "epoch [12/40], loss:0.00074548\n",
      "epoch [13/40], loss:0.00000298\n",
      "epoch [14/40], loss:0.00000982\n",
      "epoch [15/40], loss:0.00000070\n",
      "epoch [16/40], loss:0.00000685\n",
      "epoch [17/40], loss:0.00000284\n",
      "epoch [18/40], loss:0.00000154\n",
      "epoch [19/40], loss:0.00000489\n",
      "epoch [20/40], loss:0.00000208\n",
      "epoch [21/40], loss:0.00048163\n",
      "epoch [22/40], loss:0.00000246\n",
      "epoch [23/40], loss:0.00000324\n",
      "epoch [24/40], loss:0.00000328\n",
      "epoch [25/40], loss:0.00000692\n",
      "epoch [26/40], loss:0.00000455\n",
      "epoch [27/40], loss:0.00000320\n",
      "epoch [28/40], loss:0.00000542\n",
      "epoch [29/40], loss:0.00000443\n",
      "epoch [30/40], loss:0.00000144\n",
      "epoch [31/40], loss:0.00000326\n",
      "epoch [32/40], loss:0.00000300\n",
      "epoch [33/40], loss:0.00000252\n",
      "epoch [34/40], loss:0.00543678\n",
      "epoch [35/40], loss:0.00000112\n",
      "epoch [36/40], loss:0.00000138\n",
      "epoch [37/40], loss:0.00000386\n",
      "epoch [38/40], loss:0.00000814\n",
      "epoch [39/40], loss:0.00000217\n",
      "epoch [40/40], loss:0.00000537\n"
     ]
    }
   ],
   "source": [
    "model = Autoencoder().to(device)\n",
    "criterion = nn.MSELoss()\n",
    "optimizer = torch.optim.Adam(model.parameters(), lr=0.001, weight_decay=1e-5)\n",
    "losses =[]\n",
    "for epoch in range(num_epochs):\n",
    "    model.train()\n",
    "    for i,sample in enumerate(train_loader):\n",
    "        data, target = sample['data'], sample['target']\n",
    "        #print(data.size())\n",
    "        #data = data.view(10,1,187)\n",
    "        #print(data)\n",
    "        #print(data.shape)\n",
    "        #target = target.view(10,1,187)\n",
    "        #print(target.shape)\n",
    "        data = data.to(device)\n",
    "        target = target.to(device)\n",
    "        \n",
    "\n",
    "\n",
    "        # ===================forward=====================\n",
    "        optimizer.zero_grad()\n",
    "        output = model(data)\n",
    "        loss = criterion(output, target)\n",
    "        # ===================backward====================\n",
    "        loss.backward()\n",
    "        optimizer.step()\n",
    "    # ===================log========================\n",
    "    losses.append([epoch+1,loss.item()])\n",
    "    \n",
    "    print('epoch [{}/{}], loss:{:.8f}'\n",
    "          .format(epoch + 1, num_epochs, loss.item()))"
   ]
  },
  {
   "cell_type": "code",
   "execution_count": 57,
   "metadata": {},
   "outputs": [
    {
     "data": {
      "text/plain": [
       "(40, 2)"
      ]
     },
     "execution_count": 57,
     "metadata": {},
     "output_type": "execute_result"
    }
   ],
   "source": [
    "losses = np.asarray(losses)\n",
    "np.shape(losses)\n"
   ]
  },
  {
   "cell_type": "code",
   "execution_count": 60,
   "metadata": {},
   "outputs": [
    {
     "data": {
      "image/png": "[encoded data removed]",
      "text/plain": [
       "<Figure size 432x288 with 1 Axes>"
      ]
     },
     "metadata": {
      "needs_background": "light"
     },
     "output_type": "display_data"
    }
   ],
   "source": [
    "plt.plot(losses[:,0],losses[:,1])\n",
    "plt.ylabel('loss');\n",
    "plt.xlabel('epoch');"
   ]
  },
  {
   "cell_type": "code",
   "execution_count": null,
   "metadata": {},
   "outputs": [],
   "source": []
  }
 ],
 "metadata": {
  "kernelspec": {
   "display_name": "Python 3",
   "language": "python",
   "name": "python3"
  },
  "language_info": {
   "codemirror_mode": {
    "name": "ipython",
    "version": 3
   },
   "file_extension": ".py",
   "mimetype": "text/x-python",
   "name": "python",
   "nbconvert_exporter": "python",
   "pygments_lexer": "ipython3",
   "version": "3.6.5"
  }
 },
 "nbformat": 4,
 "nbformat_minor": 2
}
